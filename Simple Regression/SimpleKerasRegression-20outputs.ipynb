{
 "cells": [
  {
   "cell_type": "code",
   "execution_count": 1,
   "metadata": {},
   "outputs": [
    {
     "name": "stderr",
     "output_type": "stream",
     "text": [
      "C:\\Users\\ortci\\Anaconda3\\lib\\site-packages\\h5py\\__init__.py:36: FutureWarning: Conversion of the second argument of issubdtype from `float` to `np.floating` is deprecated. In future, it will be treated as `np.float64 == np.dtype(float).type`.\n",
      "  from ._conv import register_converters as _register_converters\n",
      "Using TensorFlow backend.\n"
     ]
    }
   ],
   "source": [
    "# Multilayer Perceptron (MLP) for multi-class softmax classification:\n",
    "# modified from \n",
    "# https://keras.io/getting-started/sequential-model-guide/#multilayer-perceptron-mlp-for-multi-class-softmax-classification\n",
    "\n",
    "import keras\n",
    "from keras.models import Sequential\n",
    "from keras.layers import Dense, Dropout, Activation, BatchNormalization\n",
    "from keras.optimizers import SGD, Adam\n",
    "\n",
    "import random"
   ]
  },
  {
   "cell_type": "code",
   "execution_count": 2,
   "metadata": {},
   "outputs": [],
   "source": [
    "import numpy as np\n",
    "\n",
    "n_samples = 1000000\n",
    "n_partitions = 10\n",
    "\n",
    "# Generate tasks and partitions\n",
    "partition_data = np.random.random((n_samples, n_partitions)) # partition data generation\n",
    "n_outputs = 2 * n_partitions\n",
    "#X = np.zeros((n_samples, n_partitions + 1))             # initialize input layer\n",
    "y = np.zeros((n_samples, n_outputs))                 # initialize outputs layer for training \n",
    "\n",
    "task_data = np.zeros((n_samples, 1))                         # initialize task list\n",
    "\n",
    "for i in range (0, n_samples):\n",
    "    \n",
    "    partitions = partition_data[i]\n",
    "    task = random.uniform(0, partitions.max())\n",
    "    task_data[i] = task\n",
    "    \n",
    "    for j in range (0, n_partitions):\n",
    "        current_fit = partitions[j] - task\n",
    "        y[i,j] = abs(current_fit)\n",
    "        if current_fit < 0:\n",
    "            y[i,j+n_partitions] = 0\n",
    "        else:\n",
    "            y[i,j+n_partitions] = 1\n",
    "            \n",
    "X = np.hstack((task_data,partition_data))"
   ]
  },
  {
   "cell_type": "code",
   "execution_count": 3,
   "metadata": {},
   "outputs": [],
   "source": [
    "# split data between train and test set \n",
    "import numpy as np\n",
    "from sklearn.model_selection import train_test_split\n",
    "\n",
    "X_train, X_test, y_train, y_test = train_test_split(X, y, test_size=0.20, random_state=42)"
   ]
  },
  {
   "cell_type": "code",
   "execution_count": 4,
   "metadata": {},
   "outputs": [],
   "source": [
    "import tensorflow as tf\n",
    "\n",
    "model = Sequential()\n",
    "n_hidden_units = 1000\n",
    "# Dense(n_hidden_units) is a fully-connected layer with n_hidden_units hidden units.\n",
    "# in the first layer, you must specify the expected input data shape:\n",
    "# here, 10-dimensional vectors.\n",
    "model.add(Dense(n_hidden_units, input_dim=n_partitions+1))\n",
    "\n",
    "model.add(Activation('relu'))\n",
    "model.add(BatchNormalization())\n",
    "model.add(Dropout(0.5))\n",
    "\n",
    "model.add(Dense(n_hidden_units))\n",
    "\n",
    "model.add(Activation('relu'))\n",
    "model.add(BatchNormalization())\n",
    "model.add(Dropout(0.5))\n",
    "\n",
    "model.add(Dense(n_outputs))\n",
    "model.add(Activation('relu'))\n",
    "model.add(BatchNormalization())\n",
    "\n",
    "# optimizer options\n",
    "sgd = SGD(lr=0.05, decay=1e-6, momentum=0.9, nesterov=True)\n",
    "rmsprop = tf.train.RMSPropOptimizer(0.008)\n",
    "adam = Adam(lr=0.01, beta_1=0.9, beta_2=0.999, epsilon=None, decay=0.0, amsgrad=False)"
   ]
  },
  {
   "cell_type": "code",
   "execution_count": 5,
   "metadata": {},
   "outputs": [],
   "source": [
    "model.compile(loss='mean_squared_error',\n",
    "              optimizer=sgd,\n",
    "              metrics=['mae'])"
   ]
  },
  {
   "cell_type": "code",
   "execution_count": 6,
   "metadata": {},
   "outputs": [
    {
     "name": "stdout",
     "output_type": "stream",
     "text": [
      "Epoch 1/10\n",
      "800000/800000 [==============================] - 106s 133us/step - loss: 0.0611 - mean_absolute_error: 0.1774\n",
      "Epoch 2/10\n",
      "800000/800000 [==============================] - 110s 138us/step - loss: 0.0329 - mean_absolute_error: 0.1269\n",
      "Epoch 3/10\n",
      "800000/800000 [==============================] - 111s 139us/step - loss: 0.0275 - mean_absolute_error: 0.1136\n",
      "Epoch 4/10\n",
      "800000/800000 [==============================] - 111s 139us/step - loss: 0.0249 - mean_absolute_error: 0.1071\n",
      "Epoch 5/10\n",
      "800000/800000 [==============================] - 112s 139us/step - loss: 0.0231 - mean_absolute_error: 0.1019\n",
      "Epoch 6/10\n",
      "800000/800000 [==============================] - 111s 139us/step - loss: 0.0215 - mean_absolute_error: 0.0975\n",
      "Epoch 7/10\n",
      "800000/800000 [==============================] - 111s 139us/step - loss: 0.0203 - mean_absolute_error: 0.0938\n",
      "Epoch 8/10\n",
      "800000/800000 [==============================] - 112s 140us/step - loss: 0.0193 - mean_absolute_error: 0.0908\n",
      "Epoch 9/10\n",
      "800000/800000 [==============================] - 111s 139us/step - loss: 0.0185 - mean_absolute_error: 0.0884\n",
      "Epoch 10/10\n",
      "800000/800000 [==============================] - 112s 140us/step - loss: 0.0178 - mean_absolute_error: 0.0863\n",
      "200000/200000 [==============================] - 8s 38us/step\n",
      "[0.008720357291167602, 0.04364702694118023]\n"
     ]
    },
    {
     "data": {
      "text/plain": [
       "'\\nWhy is the training loss much higher than the testing loss?\\n\\nA Keras model has two modes: training and testing. Regularization mechanisms, such as Dropout and \\nL1/L2 weight regularization, are turned off at testing time. Besides, the training loss is the average \\nof the losses over each batch of training data. Because your model is changing over time, the loss over \\nthe first batches of an epoch is generally higher than over the last batches. On the other hand, the \\ntesting loss for an epoch is computed using the model as it is at the end of the epoch, resulting in a lower loss.\\n'"
      ]
     },
     "execution_count": 6,
     "metadata": {},
     "output_type": "execute_result"
    }
   ],
   "source": [
    "batchsize = 500\n",
    "\n",
    "model.fit(X_train, y_train,\n",
    "          epochs=10,\n",
    "          batch_size=batchsize)\n",
    "score = model.evaluate(X_test, y_test, batch_size=batchsize)\n",
    "print(score)\n",
    "\n",
    "'''\n",
    "Why is the training loss much higher than the testing loss?\n",
    "\n",
    "A Keras model has two modes: training and testing. Regularization mechanisms, such as Dropout and \n",
    "L1/L2 weight regularization, are turned off at testing time. Besides, the training loss is the average \n",
    "of the losses over each batch of training data. Because your model is changing over time, the loss over \n",
    "the first batches of an epoch is generally higher than over the last batches. On the other hand, the \n",
    "testing loss for an epoch is computed using the model as it is at the end of the epoch, resulting in a lower loss.\n",
    "'''"
   ]
  },
  {
   "cell_type": "code",
   "execution_count": 7,
   "metadata": {},
   "outputs": [
    {
     "data": {
      "text/plain": [
       "\"\\ndel model  # deletes the existing model\\n\\n# returns a compiled model\\n# identical to the previous one\\nmodel = load_model('MLP_Multiclass_softmax_10_inputs.h5')\\nmodel.load_weights('MLP_Multiclass_softmax_10_inputs_weights.h5') # for same architecture\\nmodel.load_weights('MLP_Multiclass_softmax_10_inputs_weights.h5', by_name=True) # for different architecture\\n\""
      ]
     },
     "execution_count": 7,
     "metadata": {},
     "output_type": "execute_result"
    }
   ],
   "source": [
    "from keras.models import load_model\n",
    "\n",
    "model.save('MLP_relu_softmax_11_inputs_20_outputs_v1.h5')  # creates a HDF5 file 'my_model.h5'\n",
    "model.save_weights('MLP_relu_softmax_11_inputs_20_outputs_v1.h5')\n",
    "\n",
    "'''\n",
    "del model  # deletes the existing model\n",
    "\n",
    "# returns a compiled model\n",
    "# identical to the previous one\n",
    "model = load_model('MLP_Multiclass_softmax_10_inputs.h5')\n",
    "model.load_weights('MLP_Multiclass_softmax_10_inputs_weights.h5') # for same architecture\n",
    "model.load_weights('MLP_Multiclass_softmax_10_inputs_weights.h5', by_name=True) # for different architecture\n",
    "'''"
   ]
  },
  {
   "cell_type": "code",
   "execution_count": 8,
   "metadata": {},
   "outputs": [],
   "source": [
    "y_pred = model.predict(X_test, batch_size=batchsize)"
   ]
  },
  {
   "cell_type": "code",
   "execution_count": 9,
   "metadata": {},
   "outputs": [
    {
     "name": "stdout",
     "output_type": "stream",
     "text": [
      "19\n"
     ]
    }
   ],
   "source": [
    "# find cases for boolean fit misclassification\n",
    "misclass_set = []\n",
    "for i in range(0,100):\n",
    "    for j in range(n_partitions,2*n_partitions):\n",
    "        if (np.around(y_pred[i][j],0) != y_test[i][j]).any():\n",
    "            misclass_set.append(i)\n",
    "            break\n",
    "num_misclass = len(misclass_set)\n",
    "print(num_misclass)"
   ]
  },
  {
   "cell_type": "code",
   "execution_count": 11,
   "metadata": {},
   "outputs": [
    {
     "data": {
      "text/html": [
       "<div>\n",
       "<style scoped>\n",
       "    .dataframe tbody tr th:only-of-type {\n",
       "        vertical-align: middle;\n",
       "    }\n",
       "\n",
       "    .dataframe tbody tr th {\n",
       "        vertical-align: top;\n",
       "    }\n",
       "\n",
       "    .dataframe thead th {\n",
       "        text-align: right;\n",
       "    }\n",
       "</style>\n",
       "<table border=\"1\" class=\"dataframe\">\n",
       "  <thead>\n",
       "    <tr style=\"text-align: right;\">\n",
       "      <th></th>\n",
       "      <th>0</th>\n",
       "      <th>1</th>\n",
       "      <th>2</th>\n",
       "      <th>3</th>\n",
       "      <th>4</th>\n",
       "      <th>5</th>\n",
       "      <th>6</th>\n",
       "      <th>7</th>\n",
       "      <th>8</th>\n",
       "      <th>9</th>\n",
       "    </tr>\n",
       "  </thead>\n",
       "  <tbody>\n",
       "    <tr>\n",
       "      <th>Partition_AF</th>\n",
       "      <td>0.285737</td>\n",
       "      <td>0.371144</td>\n",
       "      <td>0.667509</td>\n",
       "      <td>0.387021</td>\n",
       "      <td>0.176986</td>\n",
       "      <td>0.431163</td>\n",
       "      <td>0.789118</td>\n",
       "      <td>0.091056</td>\n",
       "      <td>0.691164</td>\n",
       "      <td>0.281610</td>\n",
       "    </tr>\n",
       "    <tr>\n",
       "      <th>Task_Size</th>\n",
       "      <td>0.671085</td>\n",
       "      <td>0.671085</td>\n",
       "      <td>0.671085</td>\n",
       "      <td>0.671085</td>\n",
       "      <td>0.671085</td>\n",
       "      <td>0.671085</td>\n",
       "      <td>0.671085</td>\n",
       "      <td>0.671085</td>\n",
       "      <td>0.671085</td>\n",
       "      <td>0.671085</td>\n",
       "    </tr>\n",
       "    <tr>\n",
       "      <th>Actual_Part_RAF</th>\n",
       "      <td>0.385348</td>\n",
       "      <td>0.299941</td>\n",
       "      <td>0.003576</td>\n",
       "      <td>0.284064</td>\n",
       "      <td>0.494099</td>\n",
       "      <td>0.239922</td>\n",
       "      <td>0.118033</td>\n",
       "      <td>0.580029</td>\n",
       "      <td>0.020079</td>\n",
       "      <td>0.389475</td>\n",
       "    </tr>\n",
       "    <tr>\n",
       "      <th>Pred_Part_RAF</th>\n",
       "      <td>0.366480</td>\n",
       "      <td>0.281956</td>\n",
       "      <td>0.115698</td>\n",
       "      <td>0.285703</td>\n",
       "      <td>0.460906</td>\n",
       "      <td>0.230421</td>\n",
       "      <td>0.118679</td>\n",
       "      <td>0.567981</td>\n",
       "      <td>0.117521</td>\n",
       "      <td>0.393662</td>\n",
       "    </tr>\n",
       "    <tr>\n",
       "      <th>Actual_Part_Boolean_Fit</th>\n",
       "      <td>0.000000</td>\n",
       "      <td>0.000000</td>\n",
       "      <td>0.000000</td>\n",
       "      <td>0.000000</td>\n",
       "      <td>0.000000</td>\n",
       "      <td>0.000000</td>\n",
       "      <td>1.000000</td>\n",
       "      <td>0.000000</td>\n",
       "      <td>1.000000</td>\n",
       "      <td>0.000000</td>\n",
       "    </tr>\n",
       "    <tr>\n",
       "      <th>Pred_Part_Boolean_Fit</th>\n",
       "      <td>0.003299</td>\n",
       "      <td>0.003068</td>\n",
       "      <td>0.735641</td>\n",
       "      <td>0.002204</td>\n",
       "      <td>0.006373</td>\n",
       "      <td>0.006570</td>\n",
       "      <td>1.026982</td>\n",
       "      <td>0.005837</td>\n",
       "      <td>0.825676</td>\n",
       "      <td>0.004375</td>\n",
       "    </tr>\n",
       "  </tbody>\n",
       "</table>\n",
       "</div>"
      ],
      "text/plain": [
       "                                0         1         2         3         4  \\\n",
       "Partition_AF             0.285737  0.371144  0.667509  0.387021  0.176986   \n",
       "Task_Size                0.671085  0.671085  0.671085  0.671085  0.671085   \n",
       "Actual_Part_RAF          0.385348  0.299941  0.003576  0.284064  0.494099   \n",
       "Pred_Part_RAF            0.366480  0.281956  0.115698  0.285703  0.460906   \n",
       "Actual_Part_Boolean_Fit  0.000000  0.000000  0.000000  0.000000  0.000000   \n",
       "Pred_Part_Boolean_Fit    0.003299  0.003068  0.735641  0.002204  0.006373   \n",
       "\n",
       "                                5         6         7         8         9  \n",
       "Partition_AF             0.431163  0.789118  0.091056  0.691164  0.281610  \n",
       "Task_Size                0.671085  0.671085  0.671085  0.671085  0.671085  \n",
       "Actual_Part_RAF          0.239922  0.118033  0.580029  0.020079  0.389475  \n",
       "Pred_Part_RAF            0.230421  0.118679  0.567981  0.117521  0.393662  \n",
       "Actual_Part_Boolean_Fit  0.000000  1.000000  0.000000  1.000000  0.000000  \n",
       "Pred_Part_Boolean_Fit    0.006570  1.026982  0.005837  0.825676  0.004375  "
      ]
     },
     "execution_count": 11,
     "metadata": {},
     "output_type": "execute_result"
    }
   ],
   "source": [
    "# show results of specific case\n",
    "test = misclass_set[1]\n",
    "\n",
    "import pandas as pd\n",
    "\n",
    "test_df = pd.DataFrame(np.vstack((X_test[test][1:n_partitions+1],\n",
    "                                  np.full((1,10),X_test[test][0]),\n",
    "                                  y_test[test][0:n_partitions],\n",
    "                                  y_pred[test][0:n_partitions],\n",
    "                                  y_test[test][n_partitions:2*n_partitions],\n",
    "                                  y_pred[test][n_partitions:2*n_partitions])))\n",
    "test_df.index = (\"Partition_AF\",\n",
    "                 \"Task_Size\",\n",
    "                 \"Actual_Part_RAF\", # abs(remaining AF)\n",
    "                 \"Pred_Part_RAF\",   # abs(remaining AF)\n",
    "                 \"Actual_Part_Boolean_Fit\", # actual fit\n",
    "                 \"Pred_Part_Boolean_Fit\")   # actual fit\n",
    "test_df"
   ]
  },
  {
   "cell_type": "code",
   "execution_count": null,
   "metadata": {},
   "outputs": [],
   "source": []
  }
 ],
 "metadata": {
  "kernelspec": {
   "display_name": "Python 3",
   "language": "python",
   "name": "python3"
  },
  "language_info": {
   "codemirror_mode": {
    "name": "ipython",
    "version": 3
   },
   "file_extension": ".py",
   "mimetype": "text/x-python",
   "name": "python",
   "nbconvert_exporter": "python",
   "pygments_lexer": "ipython3",
   "version": "3.6.5"
  }
 },
 "nbformat": 4,
 "nbformat_minor": 2
}
