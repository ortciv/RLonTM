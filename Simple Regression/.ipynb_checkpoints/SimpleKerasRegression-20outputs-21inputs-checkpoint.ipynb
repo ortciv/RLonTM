{
 "cells": [
  {
   "cell_type": "code",
   "execution_count": 1,
   "metadata": {},
   "outputs": [
    {
     "name": "stderr",
     "output_type": "stream",
     "text": [
      "C:\\Users\\ortci\\Anaconda3\\lib\\site-packages\\h5py\\__init__.py:36: FutureWarning: Conversion of the second argument of issubdtype from `float` to `np.floating` is deprecated. In future, it will be treated as `np.float64 == np.dtype(float).type`.\n",
      "  from ._conv import register_converters as _register_converters\n",
      "Using TensorFlow backend.\n"
     ]
    }
   ],
   "source": [
    "# Multilayer Perceptron (MLP) for multi-class softmax classification:\n",
    "# modified from \n",
    "# https://keras.io/getting-started/sequential-model-guide/#multilayer-perceptron-mlp-for-multi-class-softmax-classification\n",
    "\n",
    "import keras\n",
    "from keras.models import Sequential\n",
    "from keras.layers import Dense, Dropout, Activation, BatchNormalization\n",
    "from keras.optimizers import SGD, Adam\n",
    "\n",
    "import random"
   ]
  },
  {
   "cell_type": "code",
   "execution_count": 2,
   "metadata": {},
   "outputs": [],
   "source": [
    "import numpy as np\n",
    "\n",
    "n_samples = 1000000\n",
    "n_partitions = 10\n",
    "\n",
    "# Generate tasks and partitions\n",
    "partition_data = np.random.random((n_samples, n_partitions)) # partition data generation\n",
    "n_outputs = 2 * n_partitions\n",
    "#X = np.zeros((n_samples, n_partitions + 1))             # initialize input layer\n",
    "fit_data = np.zeros((n_samples, n_partitions))\n",
    "y = np.zeros((n_samples, n_outputs))                 # initialize outputs layer for training \n",
    "\n",
    "task_data = np.zeros((n_samples, 1))                         # initialize task list\n",
    "\n",
    "for i in range (0, n_samples):\n",
    "    \n",
    "    partitions = partition_data[i]\n",
    "    task = random.uniform(0, partitions.max())\n",
    "    task_data[i] = task\n",
    "    \n",
    "    for j in range (0, n_partitions):\n",
    "        current_fit = partitions[j] - task\n",
    "        y[i,j] = abs(current_fit)\n",
    "        if current_fit < 0:\n",
    "            y[i,j+n_partitions] = 0\n",
    "            fit_data[i][j] = 0\n",
    "        else:\n",
    "            y[i,j+n_partitions] = 1\n",
    "            fit_data[i][j] = 1\n",
    "            \n",
    "X = np.hstack((task_data,partition_data, fit_data))"
   ]
  },
  {
   "cell_type": "code",
   "execution_count": 3,
   "metadata": {},
   "outputs": [],
   "source": [
    "# split data between train and test set \n",
    "import numpy as np\n",
    "from sklearn.model_selection import train_test_split\n",
    "\n",
    "X_train, X_test, y_train, y_test = train_test_split(X, y, test_size=0.20, random_state=42)"
   ]
  },
  {
   "cell_type": "code",
   "execution_count": 4,
   "metadata": {},
   "outputs": [],
   "source": [
    "import tensorflow as tf\n",
    "\n",
    "model = Sequential()\n",
    "n_hidden_units = 1000\n",
    "# Dense(n_hidden_units) is a fully-connected layer with n_hidden_units hidden units.\n",
    "# in the first layer, you must specify the expected input data shape:\n",
    "# here, 10-dimensional vectors.\n",
    "model.add(Dense(n_hidden_units, input_dim=2*n_partitions+1))\n",
    "\n",
    "model.add(Activation('relu'))\n",
    "model.add(BatchNormalization())\n",
    "model.add(Dropout(0.5))\n",
    "\n",
    "model.add(Dense(n_hidden_units))\n",
    "\n",
    "model.add(Activation('relu'))\n",
    "model.add(BatchNormalization())\n",
    "model.add(Dropout(0.5))\n",
    "\n",
    "model.add(Dense(n_outputs))\n",
    "model.add(Activation('relu'))\n",
    "model.add(BatchNormalization())\n",
    "\n",
    "model.load_weights('MLP_relu_softmax_21_inputs_20_outputs_v1_wts.h5')\n",
    "\n",
    "# optimizer options\n",
    "sgd = SGD(lr=0.03, decay=1e-6, momentum=0.9, nesterov=True)\n",
    "rmsprop = tf.train.RMSPropOptimizer(0.008)\n",
    "adam = Adam(lr=0.01, beta_1=0.9, beta_2=0.999, epsilon=None, decay=0.0, amsgrad=False)"
   ]
  },
  {
   "cell_type": "code",
   "execution_count": 5,
   "metadata": {},
   "outputs": [],
   "source": [
    "model.compile(loss='mean_squared_error',\n",
    "              optimizer=sgd,\n",
    "              metrics=['mae'])"
   ]
  },
  {
   "cell_type": "code",
   "execution_count": 6,
   "metadata": {},
   "outputs": [
    {
     "name": "stdout",
     "output_type": "stream",
     "text": [
      "Epoch 1/1\n",
      "800000/800000 [==============================] - 107s 134us/step - loss: 0.0039 - mean_absolute_error: 0.0400\n",
      "200000/200000 [==============================] - 7s 36us/step\n",
      "[0.0017096545596723444, 0.01680312376935035]\n"
     ]
    },
    {
     "data": {
      "text/plain": [
       "'\\nWhy is the training loss much higher than the testing loss?\\n\\nA Keras model has two modes: training and testing. Regularization mechanisms, such as Dropout and \\nL1/L2 weight regularization, are turned off at testing time. Besides, the training loss is the average \\nof the losses over each batch of training data. Because your model is changing over time, the loss over \\nthe first batches of an epoch is generally higher than over the last batches. On the other hand, the \\ntesting loss for an epoch is computed using the model as it is at the end of the epoch, resulting in a lower loss.\\n'"
      ]
     },
     "execution_count": 6,
     "metadata": {},
     "output_type": "execute_result"
    }
   ],
   "source": [
    "batchsize = 500\n",
    "\n",
    "model.fit(X_train, y_train,\n",
    "          epochs=1,\n",
    "          batch_size=batchsize)\n",
    "score = model.evaluate(X_test, y_test, batch_size=batchsize)\n",
    "print(score)\n",
    "\n",
    "'''\n",
    "Why is the training loss much higher than the testing loss?\n",
    "\n",
    "A Keras model has two modes: training and testing. Regularization mechanisms, such as Dropout and \n",
    "L1/L2 weight regularization, are turned off at testing time. Besides, the training loss is the average \n",
    "of the losses over each batch of training data. Because your model is changing over time, the loss over \n",
    "the first batches of an epoch is generally higher than over the last batches. On the other hand, the \n",
    "testing loss for an epoch is computed using the model as it is at the end of the epoch, resulting in a lower loss.\n",
    "'''"
   ]
  },
  {
   "cell_type": "code",
   "execution_count": 7,
   "metadata": {},
   "outputs": [
    {
     "data": {
      "text/plain": [
       "\"\\ndel model  # deletes the existing model\\n\\n# returns a compiled model\\n# identical to the previous one\\nmodel = load_model('MLP_Multiclass_softmax_10_inputs.h5')\\nmodel.load_weights('MLP_Multiclass_softmax_10_inputs_weights.h5') # for same architecture\\nmodel.load_weights('MLP_Multiclass_softmax_10_inputs_weights.h5', by_name=True) # for different architecture\\n\""
      ]
     },
     "execution_count": 7,
     "metadata": {},
     "output_type": "execute_result"
    }
   ],
   "source": [
    "from keras.models import load_model\n",
    "\n",
    "model.save('MLP_relu_softmax_21_inputs_20_outputs_v1.h5')  # creates a HDF5 file 'my_model.h5'\n",
    "model.save_weights('MLP_relu_softmax_21_inputs_20_outputs_v1_wts.h5')\n",
    "\n",
    "'''\n",
    "del model  # deletes the existing model\n",
    "\n",
    "# returns a compiled model\n",
    "# identical to the previous one\n",
    "model = load_model('MLP_Multiclass_softmax_10_inputs.h5')\n",
    "model.load_weights('MLP_Multiclass_softmax_10_inputs_weights.h5') # for same architecture\n",
    "model.load_weights('MLP_Multiclass_softmax_10_inputs_weights.h5', by_name=True) # for different architecture\n",
    "'''"
   ]
  },
  {
   "cell_type": "code",
   "execution_count": 8,
   "metadata": {},
   "outputs": [],
   "source": [
    "y_pred = model.predict(X_test, batch_size=batchsize)"
   ]
  },
  {
   "cell_type": "code",
   "execution_count": 9,
   "metadata": {},
   "outputs": [
    {
     "name": "stdout",
     "output_type": "stream",
     "text": [
      "0\n"
     ]
    }
   ],
   "source": [
    "# find cases for boolean fit misclassification\n",
    "misclass_set = []\n",
    "for i in range(0,100):\n",
    "    for j in range(n_partitions,2*n_partitions):\n",
    "        if (np.around(y_pred[i][j],0) != y_test[i][j]).any():\n",
    "            misclass_set.append(i)\n",
    "            break\n",
    "num_misclass = len(misclass_set)\n",
    "print(num_misclass)"
   ]
  },
  {
   "cell_type": "code",
   "execution_count": 10,
   "metadata": {},
   "outputs": [
    {
     "data": {
      "text/html": [
       "<div>\n",
       "<style scoped>\n",
       "    .dataframe tbody tr th:only-of-type {\n",
       "        vertical-align: middle;\n",
       "    }\n",
       "\n",
       "    .dataframe tbody tr th {\n",
       "        vertical-align: top;\n",
       "    }\n",
       "\n",
       "    .dataframe thead th {\n",
       "        text-align: right;\n",
       "    }\n",
       "</style>\n",
       "<table border=\"1\" class=\"dataframe\">\n",
       "  <thead>\n",
       "    <tr style=\"text-align: right;\">\n",
       "      <th></th>\n",
       "      <th>0</th>\n",
       "      <th>1</th>\n",
       "      <th>2</th>\n",
       "      <th>3</th>\n",
       "      <th>4</th>\n",
       "      <th>5</th>\n",
       "      <th>6</th>\n",
       "      <th>7</th>\n",
       "      <th>8</th>\n",
       "      <th>9</th>\n",
       "    </tr>\n",
       "  </thead>\n",
       "  <tbody>\n",
       "    <tr>\n",
       "      <th>Partition_AF</th>\n",
       "      <td>0.209297</td>\n",
       "      <td>0.528119</td>\n",
       "      <td>0.117762</td>\n",
       "      <td>0.341980</td>\n",
       "      <td>0.403981</td>\n",
       "      <td>0.185919</td>\n",
       "      <td>0.135160</td>\n",
       "      <td>0.852869</td>\n",
       "      <td>0.959801</td>\n",
       "      <td>0.824794</td>\n",
       "    </tr>\n",
       "    <tr>\n",
       "      <th>Task_Size</th>\n",
       "      <td>0.938815</td>\n",
       "      <td>0.938815</td>\n",
       "      <td>0.938815</td>\n",
       "      <td>0.938815</td>\n",
       "      <td>0.938815</td>\n",
       "      <td>0.938815</td>\n",
       "      <td>0.938815</td>\n",
       "      <td>0.938815</td>\n",
       "      <td>0.938815</td>\n",
       "      <td>0.938815</td>\n",
       "    </tr>\n",
       "    <tr>\n",
       "      <th>Actual_Part_RAF</th>\n",
       "      <td>0.729518</td>\n",
       "      <td>0.410696</td>\n",
       "      <td>0.821053</td>\n",
       "      <td>0.596835</td>\n",
       "      <td>0.534834</td>\n",
       "      <td>0.752897</td>\n",
       "      <td>0.803655</td>\n",
       "      <td>0.085946</td>\n",
       "      <td>0.020986</td>\n",
       "      <td>0.114021</td>\n",
       "    </tr>\n",
       "    <tr>\n",
       "      <th>Pred_Part_RAF</th>\n",
       "      <td>0.707821</td>\n",
       "      <td>0.443022</td>\n",
       "      <td>0.773776</td>\n",
       "      <td>0.616823</td>\n",
       "      <td>0.568455</td>\n",
       "      <td>0.727837</td>\n",
       "      <td>0.244432</td>\n",
       "      <td>0.067354</td>\n",
       "      <td>0.073135</td>\n",
       "      <td>0.074868</td>\n",
       "    </tr>\n",
       "    <tr>\n",
       "      <th>Actual_Part_Boolean_Fit</th>\n",
       "      <td>0.000000</td>\n",
       "      <td>0.000000</td>\n",
       "      <td>0.000000</td>\n",
       "      <td>0.000000</td>\n",
       "      <td>0.000000</td>\n",
       "      <td>0.000000</td>\n",
       "      <td>0.000000</td>\n",
       "      <td>0.000000</td>\n",
       "      <td>1.000000</td>\n",
       "      <td>0.000000</td>\n",
       "    </tr>\n",
       "    <tr>\n",
       "      <th>Pred_Part_Boolean_Fit</th>\n",
       "      <td>0.002606</td>\n",
       "      <td>0.000820</td>\n",
       "      <td>0.002957</td>\n",
       "      <td>-0.001744</td>\n",
       "      <td>0.001496</td>\n",
       "      <td>0.002228</td>\n",
       "      <td>-0.000340</td>\n",
       "      <td>0.000795</td>\n",
       "      <td>1.005083</td>\n",
       "      <td>0.000834</td>\n",
       "    </tr>\n",
       "  </tbody>\n",
       "</table>\n",
       "</div>"
      ],
      "text/plain": [
       "                                0         1         2         3         4  \\\n",
       "Partition_AF             0.209297  0.528119  0.117762  0.341980  0.403981   \n",
       "Task_Size                0.938815  0.938815  0.938815  0.938815  0.938815   \n",
       "Actual_Part_RAF          0.729518  0.410696  0.821053  0.596835  0.534834   \n",
       "Pred_Part_RAF            0.707821  0.443022  0.773776  0.616823  0.568455   \n",
       "Actual_Part_Boolean_Fit  0.000000  0.000000  0.000000  0.000000  0.000000   \n",
       "Pred_Part_Boolean_Fit    0.002606  0.000820  0.002957 -0.001744  0.001496   \n",
       "\n",
       "                                5         6         7         8         9  \n",
       "Partition_AF             0.185919  0.135160  0.852869  0.959801  0.824794  \n",
       "Task_Size                0.938815  0.938815  0.938815  0.938815  0.938815  \n",
       "Actual_Part_RAF          0.752897  0.803655  0.085946  0.020986  0.114021  \n",
       "Pred_Part_RAF            0.727837  0.244432  0.067354  0.073135  0.074868  \n",
       "Actual_Part_Boolean_Fit  0.000000  0.000000  0.000000  1.000000  0.000000  \n",
       "Pred_Part_Boolean_Fit    0.002228 -0.000340  0.000795  1.005083  0.000834  "
      ]
     },
     "execution_count": 10,
     "metadata": {},
     "output_type": "execute_result"
    }
   ],
   "source": [
    "# show results of specific case\n",
    "test = 2\n",
    "\n",
    "import pandas as pd\n",
    "\n",
    "test_df = pd.DataFrame(np.vstack((X_test[test][1:n_partitions+1],\n",
    "                                  np.full((1,10),X_test[test][0]),\n",
    "                                  y_test[test][0:n_partitions],\n",
    "                                  y_pred[test][0:n_partitions],\n",
    "                                  y_test[test][n_partitions:2*n_partitions],\n",
    "                                  y_pred[test][n_partitions:2*n_partitions])))\n",
    "test_df.index = (\"Partition_AF\",\n",
    "                 \"Task_Size\",\n",
    "                 \"Actual_Part_RAF\", # abs(remaining AF)\n",
    "                 \"Pred_Part_RAF\",   # abs(remaining AF)\n",
    "                 \"Actual_Part_Boolean_Fit\", # actual fit\n",
    "                 \"Pred_Part_Boolean_Fit\")   # actual fit\n",
    "test_df"
   ]
  },
  {
   "cell_type": "code",
   "execution_count": null,
   "metadata": {},
   "outputs": [],
   "source": []
  }
 ],
 "metadata": {
  "kernelspec": {
   "display_name": "Python 3",
   "language": "python",
   "name": "python3"
  },
  "language_info": {
   "codemirror_mode": {
    "name": "ipython",
    "version": 3
   },
   "file_extension": ".py",
   "mimetype": "text/x-python",
   "name": "python",
   "nbconvert_exporter": "python",
   "pygments_lexer": "ipython3",
   "version": "3.6.5"
  }
 },
 "nbformat": 4,
 "nbformat_minor": 2
}
