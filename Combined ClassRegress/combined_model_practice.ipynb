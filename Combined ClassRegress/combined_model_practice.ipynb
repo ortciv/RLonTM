{
 "cells": [
  {
   "cell_type": "code",
   "execution_count": 1,
   "metadata": {},
   "outputs": [
    {
     "name": "stderr",
     "output_type": "stream",
     "text": [
      "C:\\Users\\ortci\\Anaconda3\\lib\\site-packages\\h5py\\__init__.py:36: FutureWarning: Conversion of the second argument of issubdtype from `float` to `np.floating` is deprecated. In future, it will be treated as `np.float64 == np.dtype(float).type`.\n",
      "  from ._conv import register_converters as _register_converters\n",
      "Using TensorFlow backend.\n"
     ]
    }
   ],
   "source": [
    "import keras\n",
    "from keras.models import Sequential\n",
    "from keras.layers import Dense, Dropout, Activation\n",
    "from keras.optimizers import SGD, Adam\n",
    "\n",
    "import random"
   ]
  },
  {
   "cell_type": "code",
   "execution_count": 2,
   "metadata": {},
   "outputs": [],
   "source": [
    "import numpy as np\n",
    "\n",
    "n_samples = 4\n",
    "n_partitions = 10\n",
    "\n",
    "# Generate tasks and partitions\n",
    "partition_data = np.random.random((n_samples, n_partitions)) # partition data generation\n",
    "\n",
    "#X = np.zeros((n_samples, n_partitions + 1))             # initialize input layer\n",
    "y = np.zeros((n_samples, n_partitions))                 # initialize outputs layer for training \n",
    "\n",
    "task_data = np.zeros((n_samples, 1))                         # initialize task list\n",
    "\n",
    "for i in range (0, n_samples):\n",
    "    \n",
    "    partitions = partition_data[i]\n",
    "    task = random.uniform(0, partitions.max())\n",
    "    task_data[i] = task\n",
    "    \n",
    "    for j in range (0, n_partitions):\n",
    "        current_fit = partitions[j] - task\n",
    "        y[i,j] = current_fit\n",
    "            \n",
    "X = np.hstack((task_data,partition_data))"
   ]
  },
  {
   "cell_type": "code",
   "execution_count": 3,
   "metadata": {},
   "outputs": [
    {
     "name": "stdout",
     "output_type": "stream",
     "text": [
      "[[0.40732754 0.74444808 0.32522994 0.9598476  0.20619645 0.85293283\n",
      "  0.80453364 0.57036294 0.44424068 0.93240369 0.92099714]\n",
      " [0.31426661 0.33395402 0.35975671 0.86174516 0.81252592 0.19786578\n",
      "  0.97167418 0.74131819 0.72816227 0.55819667 0.28026332]\n",
      " [0.58039337 0.87849027 0.4851816  0.18836681 0.52660848 0.00647673\n",
      "  0.02550484 0.8114144  0.49384886 0.52460578 0.33656009]\n",
      " [0.93230805 0.1701276  0.02944333 0.34778787 0.96873952 0.61960282\n",
      "  0.64556434 0.15898562 0.01800044 0.75510572 0.02517721]]\n",
      "[[ 0.33712054 -0.0820976   0.55252005 -0.20113109  0.44560528  0.3972061\n",
      "   0.16303539  0.03691313  0.52507614  0.5136696 ]\n",
      " [ 0.01968741  0.0454901   0.54747855  0.49825931 -0.11640083  0.65740757\n",
      "   0.42705158  0.41389565  0.24393005 -0.0340033 ]\n",
      " [ 0.2980969  -0.09521177 -0.39202656 -0.05378489 -0.57391664 -0.55488853\n",
      "   0.23102103 -0.08654451 -0.05578759 -0.24383328]\n",
      " [-0.76218045 -0.90286472 -0.58452018  0.03643147 -0.31270523 -0.28674371\n",
      "  -0.77332243 -0.91430761 -0.17720233 -0.90713084]]\n"
     ]
    }
   ],
   "source": [
    "print(X)\n",
    "print(y)"
   ]
  },
  {
   "cell_type": "code",
   "execution_count": 4,
   "metadata": {},
   "outputs": [
    {
     "name": "stdout",
     "output_type": "stream",
     "text": [
      "[[ 3.3321178e-01 -1.0513061e-01  5.6163108e-01 -2.1071249e-01\n",
      "   4.5003146e-01  3.9729750e-01  1.4991751e-01  1.8166430e-02\n",
      "   5.3245199e-01  5.1987880e-01]\n",
      " [-2.8800964e-04  2.8179869e-02  5.5611056e-01  5.0733316e-01\n",
      "  -1.3621736e-01  6.7276335e-01  4.2850450e-01  4.1787508e-01\n",
      "   2.3633291e-01 -5.6930602e-02]\n",
      " [ 2.7797037e-01 -1.3044298e-01 -3.6642593e-01 -9.1853380e-02\n",
      "  -4.7788244e-01 -4.6784222e-01  2.0777124e-01 -1.2142968e-01\n",
      "  -9.0623677e-02 -2.5597769e-01]\n",
      " [-5.7619691e-01 -6.3457632e-01 -4.8903859e-01 -1.7168939e-02\n",
      "  -3.2012916e-01 -3.0063164e-01 -5.8092022e-01 -6.3882679e-01\n",
      "  -2.1588552e-01 -6.3687980e-01]]\n"
     ]
    }
   ],
   "source": [
    "from keras.models import load_model\n",
    "model = load_model('MLP_Multiclass_elu_softmax_11_inputs.h5')\n",
    "\n",
    "score = model.predict(X)\n",
    "print(score)\n"
   ]
  },
  {
   "cell_type": "code",
   "execution_count": 5,
   "metadata": {},
   "outputs": [
    {
     "data": {
      "text/plain": [
       "array([[-3.90876276e-03, -2.30330142e-02,  9.11102931e-03,\n",
       "        -9.58140134e-03,  4.42617570e-03,  9.14026752e-05,\n",
       "        -1.31178803e-02, -1.87467040e-02,  7.37584365e-03,\n",
       "         6.20920963e-03],\n",
       "       [-1.99754162e-02, -1.73102313e-02,  8.63201082e-03,\n",
       "         9.07384704e-03, -1.98165256e-02,  1.53557753e-02,\n",
       "         1.45291618e-03,  3.97942665e-03, -7.59714610e-03,\n",
       "        -2.29273064e-02],\n",
       "       [-2.01265297e-02, -3.52312085e-02,  2.56006287e-02,\n",
       "        -3.80684856e-02,  9.60341952e-02,  8.70463109e-02,\n",
       "        -2.32497869e-02, -3.48851671e-02, -3.48360864e-02,\n",
       "        -1.21444143e-02],\n",
       "       [ 1.85983537e-01,  2.68288396e-01,  9.54815885e-02,\n",
       "        -5.36004119e-02, -7.42393099e-03, -1.38879299e-02,\n",
       "         1.92402212e-01,  2.75480825e-01, -3.86831912e-02,\n",
       "         2.70251042e-01]])"
      ]
     },
     "execution_count": 5,
     "metadata": {},
     "output_type": "execute_result"
    }
   ],
   "source": [
    "score-y"
   ]
  },
  {
   "cell_type": "code",
   "execution_count": 6,
   "metadata": {},
   "outputs": [
    {
     "data": {
      "text/plain": [
       "[<keras.layers.core.Dense at 0x29dbfa3efd0>,\n",
       " <keras.layers.core.Dropout at 0x29dbfa52400>,\n",
       " <keras.layers.core.Dense at 0x29dbfa52668>,\n",
       " <keras.layers.core.Dropout at 0x29dbfa52048>,\n",
       " <keras.layers.core.Dense at 0x29dbfa83a90>]"
      ]
     },
     "execution_count": 6,
     "metadata": {},
     "output_type": "execute_result"
    }
   ],
   "source": [
    "model.layers"
   ]
  },
  {
   "cell_type": "code",
   "execution_count": 11,
   "metadata": {},
   "outputs": [],
   "source": [
    "import numpy as np\n",
    "\n",
    "n_samples = 5\n",
    "n_partitions = 10\n",
    "\n",
    "# Generate tasks and partitions\n",
    "partition_data = np.random.random((n_samples, n_partitions)) # partition data generation\n",
    "\n",
    "data = np.zeros((n_samples, n_partitions))                   # initialize input layer\n",
    "labels = np.zeros((n_samples, n_partitions))                 # initialize outputs layer for training \n",
    "\n",
    "task_data = np.zeros((n_samples, 1))                         # initialize task list\n",
    "\n",
    "# fails to account a 'perfect' fit where fit == 0\n",
    "for i in range (0, n_samples):\n",
    "    \n",
    "    partitions = partition_data[i]\n",
    "    task = random.uniform(0, partitions.max())\n",
    "    task_data[i] = task\n",
    "    \n",
    "    best_partition = -1\n",
    "    best_fit = 999999999\n",
    "    \n",
    "    for j in range (0, n_partitions):\n",
    "        current_fit = partitions[j] - task\n",
    "        data[i,j] = current_fit\n",
    "        if current_fit > 0 and current_fit < best_fit:\n",
    "            best_fit = current_fit\n",
    "            best_partition = j\n",
    "    \n",
    "    labels[i][best_partition] = 1\n",
    "    \n",
    "\n",
    "X = np.hstack((task_data,partition_data))\n",
    "y = labels"
   ]
  },
  {
   "cell_type": "code",
   "execution_count": 12,
   "metadata": {},
   "outputs": [
    {
     "name": "stdout",
     "output_type": "stream",
     "text": [
      "[[0.47795612 0.8950309  0.11634663 0.40534705 0.82719403 0.32712569\n",
      "  0.10228888 0.14206862 0.63742999 0.01222156 0.74528688]\n",
      " [0.46331611 0.9752388  0.86956837 0.42798455 0.54589557 0.21456547\n",
      "  0.89691491 0.23557803 0.42039868 0.62581558 0.97147117]\n",
      " [0.43907992 0.54976654 0.04090617 0.4771504  0.48948012 0.58955049\n",
      "  0.11543757 0.70820264 0.44509236 0.60090721 0.35100217]\n",
      " [0.34012929 0.20129501 0.63290191 0.20868648 0.07547843 0.52719105\n",
      "  0.18618929 0.72244947 0.8053728  0.98079619 0.74060859]\n",
      " [0.48339839 0.89520856 0.64988736 0.12097823 0.0591836  0.88294565\n",
      "  0.76402138 0.43657964 0.97487889 0.3514415  0.9434977 ]]\n",
      "[[0. 0. 0. 0. 0. 0. 0. 1. 0. 0.]\n",
      " [0. 0. 0. 1. 0. 0. 0. 0. 0. 0.]\n",
      " [0. 0. 0. 0. 0. 0. 0. 1. 0. 0.]\n",
      " [0. 0. 0. 0. 1. 0. 0. 0. 0. 0.]\n",
      " [0. 1. 0. 0. 0. 0. 0. 0. 0. 0.]]\n"
     ]
    }
   ],
   "source": [
    "print(X)\n",
    "print(y)"
   ]
  },
  {
   "cell_type": "code",
   "execution_count": 13,
   "metadata": {},
   "outputs": [
    {
     "name": "stdout",
     "output_type": "stream",
     "text": [
      "[[1.51251722e-02 7.33689521e-05 1.78194419e-01 6.32743388e-02\n",
      "  5.79872914e-03 3.21391453e-05 1.84749704e-04 4.78871047e-01\n",
      "  1.48511226e-05 2.58431226e-01]\n",
      " [7.01426994e-04 3.53424391e-03 7.63960481e-02 4.26302493e-01\n",
      "  2.14962856e-04 1.23697221e-02 4.69081424e-04 5.59408553e-02\n",
      "  4.22174245e-01 1.89700001e-03]\n",
      " [1.13493562e-01 1.37634515e-05 2.62967288e-01 3.35224539e-01\n",
      "  4.50272113e-02 3.72594768e-05 2.64437404e-03 2.07681939e-01\n",
      "  2.65096109e-02 6.40041800e-03]\n",
      " [6.19930066e-02 1.07857682e-01 1.74005311e-02 2.86752102e-03\n",
      "  6.56097949e-01 3.67720351e-02 7.56985992e-02 7.05263391e-03\n",
      "  9.47690685e-04 3.33122984e-02]\n",
      " [1.97001193e-02 4.45847541e-01 4.86141420e-04 4.77998474e-05\n",
      "  1.27158053e-02 1.41000226e-01 3.37045401e-01 2.10763584e-03\n",
      "  3.52393016e-02 5.81008662e-03]]\n"
     ]
    },
    {
     "name": "stderr",
     "output_type": "stream",
     "text": [
      "C:\\Users\\ortci\\Anaconda3\\lib\\site-packages\\keras\\engine\\saving.py:292: UserWarning: No training configuration found in save file: the model was *not* compiled. Compile it manually.\n",
      "  warnings.warn('No training configuration found in save file: '\n"
     ]
    }
   ],
   "source": [
    "model = load_model('combined1.h5')\n",
    "\n",
    "score = model.predict(X)\n",
    "print(score)"
   ]
  },
  {
   "cell_type": "code",
   "execution_count": null,
   "metadata": {},
   "outputs": [],
   "source": []
  }
 ],
 "metadata": {
  "kernelspec": {
   "display_name": "Python 3",
   "language": "python",
   "name": "python3"
  },
  "language_info": {
   "codemirror_mode": {
    "name": "ipython",
    "version": 3
   },
   "file_extension": ".py",
   "mimetype": "text/x-python",
   "name": "python",
   "nbconvert_exporter": "python",
   "pygments_lexer": "ipython3",
   "version": "3.6.5"
  }
 },
 "nbformat": 4,
 "nbformat_minor": 2
}
