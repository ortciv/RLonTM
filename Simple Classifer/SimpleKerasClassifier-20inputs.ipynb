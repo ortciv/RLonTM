{
 "cells": [
  {
   "cell_type": "code",
   "execution_count": 1,
   "metadata": {},
   "outputs": [
    {
     "name": "stderr",
     "output_type": "stream",
     "text": [
      "C:\\Users\\ortci\\Anaconda3\\lib\\site-packages\\h5py\\__init__.py:36: FutureWarning: Conversion of the second argument of issubdtype from `float` to `np.floating` is deprecated. In future, it will be treated as `np.float64 == np.dtype(float).type`.\n",
      "  from ._conv import register_converters as _register_converters\n",
      "Using TensorFlow backend.\n"
     ]
    }
   ],
   "source": [
    "import keras as k\n",
    "from keras.models import Sequential\n",
    "from keras.layers import Dense\n",
    "from keras.optimizers import Adam\n",
    "\n",
    "import random"
   ]
  },
  {
   "cell_type": "code",
   "execution_count": 2,
   "metadata": {},
   "outputs": [],
   "source": [
    "import numpy as np\n",
    "\n",
    "n_samples = 1000000\n",
    "n_partitions = 10\n",
    "\n",
    "# Generate tasks and partitions\n",
    "partition_data = np.random.random((n_samples, n_partitions)) # partition data generation\n",
    "\n",
    "data = np.zeros((n_samples, 2*n_partitions))                # initialize input layer\n",
    "labels = np.zeros((n_samples, n_partitions))                 # initialize outputs layer for training \n",
    "\n",
    "task_data = np.zeros((n_samples, 1))                         # initialize task list\n",
    "\n",
    "# fails to account a 'perfect' fit where fit == 0\n",
    "for i in range (0, n_samples):\n",
    "    \n",
    "    partitions = partition_data[i]\n",
    "    task = random.uniform(0, partitions.max())\n",
    "    task_data[i] = task\n",
    "    \n",
    "    best_partition = -1\n",
    "    best_fit = 999999999\n",
    "    \n",
    "    for j in range (0, n_partitions):\n",
    "        current_fit = partitions[j] - task\n",
    "        data[i,j] = abs(current_fit)\n",
    "        if current_fit < 0:\n",
    "            data[i, j + n_partitions] = 0\n",
    "        else:\n",
    "            data[i, j + n_partitions] = 1\n",
    "        if current_fit > 0 and current_fit < best_fit:\n",
    "            best_fit = current_fit\n",
    "            best_partition = j\n",
    "    \n",
    "    labels[i][best_partition] = 1\n"
   ]
  },
  {
   "cell_type": "code",
   "execution_count": 3,
   "metadata": {},
   "outputs": [],
   "source": [
    "# split data between train and test set \n",
    "import numpy as np\n",
    "from sklearn.model_selection import train_test_split\n",
    "\n",
    "X_train, X_test, y_train, y_test = train_test_split(data, labels, test_size=0.20, random_state=42)"
   ]
  },
  {
   "cell_type": "code",
   "execution_count": 4,
   "metadata": {},
   "outputs": [
    {
     "name": "stdout",
     "output_type": "stream",
     "text": [
      "[[5.56792269e-01 3.98267564e-01 7.20768704e-01 ... 0.00000000e+00\n",
      "  1.00000000e+00 0.00000000e+00]\n",
      " [1.17988899e-02 4.29982863e-01 1.56589065e-02 ... 0.00000000e+00\n",
      "  1.00000000e+00 0.00000000e+00]\n",
      " [8.40378282e-03 5.85688878e-02 7.63773756e-01 ... 1.00000000e+00\n",
      "  1.00000000e+00 1.00000000e+00]\n",
      " ...\n",
      " [2.33384305e-01 6.26002034e-02 8.45825351e-02 ... 1.00000000e+00\n",
      "  0.00000000e+00 1.00000000e+00]\n",
      " [3.10310920e-01 3.77374757e-01 3.02609223e-01 ... 0.00000000e+00\n",
      "  1.00000000e+00 0.00000000e+00]\n",
      " [3.19203256e-04 5.15233275e-01 1.78808234e-01 ... 0.00000000e+00\n",
      "  1.00000000e+00 1.00000000e+00]]\n",
      "[[0. 0. 0. ... 0. 0. 0.]\n",
      " [0. 0. 0. ... 0. 0. 0.]\n",
      " [0. 0. 0. ... 0. 0. 0.]\n",
      " ...\n",
      " [0. 0. 0. ... 0. 0. 1.]\n",
      " [0. 0. 0. ... 0. 0. 0.]\n",
      " [0. 0. 0. ... 0. 0. 0.]]\n"
     ]
    }
   ],
   "source": [
    "print(data)\n",
    "print(labels)"
   ]
  },
  {
   "cell_type": "code",
   "execution_count": 5,
   "metadata": {},
   "outputs": [],
   "source": [
    "import tensorflow as tf\n",
    "\n",
    "# Construct neural network\n",
    "n_nodes = 64\n",
    "\n",
    "model = Sequential()\n",
    "model.add(Dense(n_nodes, input_dim=2*n_partitions, activation='relu', name='layerA'))\n",
    "model.add(Dense(n_nodes, activation='relu', name='layerB'))\n",
    "model.add(Dense(n_partitions, activation='softmax', name='softmax'))\n",
    "\n",
    "# Configure a model for categorical classification. from https://www.tensorflow.org/guide/keras#train_and_evaluate\n",
    "model.compile(optimizer=tf.train.RMSPropOptimizer(0.003),\n",
    "              loss=tf.keras.losses.categorical_crossentropy,\n",
    "              metrics=[tf.keras.metrics.categorical_accuracy])"
   ]
  },
  {
   "cell_type": "code",
   "execution_count": 6,
   "metadata": {},
   "outputs": [
    {
     "name": "stdout",
     "output_type": "stream",
     "text": [
      "Epoch 1/20\n",
      "800000/800000 [==============================] - 18s 22us/step - loss: 0.4668 - categorical_accuracy: 0.8168\n",
      "Epoch 2/20\n",
      "800000/800000 [==============================] - 18s 23us/step - loss: 0.2304 - categorical_accuracy: 0.9038\n",
      "Epoch 3/20\n",
      "800000/800000 [==============================] - 18s 23us/step - loss: 0.1774 - categorical_accuracy: 0.9253\n",
      "Epoch 4/20\n",
      "800000/800000 [==============================] - 18s 23us/step - loss: 0.1445 - categorical_accuracy: 0.9393\n",
      "Epoch 5/20\n",
      "800000/800000 [==============================] - 18s 23us/step - loss: 0.1256 - categorical_accuracy: 0.9473\n",
      "Epoch 6/20\n",
      "800000/800000 [==============================] - 18s 22us/step - loss: 0.1128 - categorical_accuracy: 0.9529\n",
      "Epoch 7/20\n",
      "800000/800000 [==============================] - 17s 21us/step - loss: 0.1041 - categorical_accuracy: 0.9568\n",
      "Epoch 8/20\n",
      "800000/800000 [==============================] - 18s 22us/step - loss: 0.0972 - categorical_accuracy: 0.9601\n",
      "Epoch 9/20\n",
      "800000/800000 [==============================] - 19s 23us/step - loss: 0.0923 - categorical_accuracy: 0.9623\n",
      "Epoch 10/20\n",
      "800000/800000 [==============================] - 18s 23us/step - loss: 0.0880 - categorical_accuracy: 0.9643\n",
      "Epoch 11/20\n",
      "800000/800000 [==============================] - 18s 23us/step - loss: 0.0850 - categorical_accuracy: 0.9657\n",
      "Epoch 12/20\n",
      "800000/800000 [==============================] - 19s 23us/step - loss: 0.0826 - categorical_accuracy: 0.9668\n",
      "Epoch 13/20\n",
      "800000/800000 [==============================] - 18s 23us/step - loss: 0.0799 - categorical_accuracy: 0.9679\n",
      "Epoch 14/20\n",
      "800000/800000 [==============================] - 17s 21us/step - loss: 0.0780 - categorical_accuracy: 0.9688\n",
      "Epoch 15/20\n",
      "800000/800000 [==============================] - 14s 18us/step - loss: 0.0762 - categorical_accuracy: 0.9698\n",
      "Epoch 16/20\n",
      "800000/800000 [==============================] - 16s 20us/step - loss: 0.0748 - categorical_accuracy: 0.9704\n",
      "Epoch 17/20\n",
      "800000/800000 [==============================] - 19s 24us/step - loss: 0.0730 - categorical_accuracy: 0.9711\n",
      "Epoch 18/20\n",
      "800000/800000 [==============================] - 17s 22us/step - loss: 0.0721 - categorical_accuracy: 0.9717\n",
      "Epoch 19/20\n",
      "800000/800000 [==============================] - 16s 20us/step - loss: 0.0710 - categorical_accuracy: 0.9719\n",
      "Epoch 20/20\n",
      "800000/800000 [==============================] - 17s 21us/step - loss: 0.0706 - categorical_accuracy: 0.9721\n",
      "200000/200000 [==============================] - 2s 11us/step\n",
      "[0.08503428827524186, 0.967475]\n"
     ]
    }
   ],
   "source": [
    "batchsize = 256\n",
    "\n",
    "model.fit(X_train, y_train, epochs=20, batch_size=batchsize)\n",
    "score = model.evaluate(X_test, y_test, batch_size=batchsize)\n",
    "print(score)"
   ]
  },
  {
   "cell_type": "code",
   "execution_count": 7,
   "metadata": {},
   "outputs": [
    {
     "name": "stderr",
     "output_type": "stream",
     "text": [
      "C:\\Users\\ortci\\Anaconda3\\lib\\site-packages\\keras\\engine\\saving.py:118: UserWarning: TensorFlow optimizers do not make it possible to access optimizer attributes or optimizer state after instantiation. As a result, we cannot save the optimizer as part of the model save file.You will have to compile your model again after loading it. Prefer using a Keras optimizer instead (see keras.io/optimizers).\n",
      "  'TensorFlow optimizers do not '\n"
     ]
    }
   ],
   "source": [
    "from keras.models import load_model\n",
    "\n",
    "model.save('simple_classifer_sign_inputs.h5')  # creates a HDF5 file 'my_model.h5'\n",
    "model.save_weights('simple_classifer_sign_inputs_wts.h5')"
   ]
  },
  {
   "cell_type": "code",
   "execution_count": 8,
   "metadata": {},
   "outputs": [],
   "source": [
    "label_pred = model.predict(X_test)"
   ]
  },
  {
   "cell_type": "code",
   "execution_count": 14,
   "metadata": {},
   "outputs": [
    {
     "name": "stdout",
     "output_type": "stream",
     "text": [
      "5\n"
     ]
    }
   ],
   "source": [
    "# find cases for misclassification\n",
    "misclass_set = []\n",
    "for i in range(0,100):\n",
    "    if (np.around(label_pred[i],0) != labels[i]).any():\n",
    "        misclass_set.append(i)\n",
    "num_misclass = len(misclass_set)\n",
    "print(num_misclass)"
   ]
  },
  {
   "cell_type": "code",
   "execution_count": 15,
   "metadata": {},
   "outputs": [
    {
     "data": {
      "text/html": [
       "<div>\n",
       "<style scoped>\n",
       "    .dataframe tbody tr th:only-of-type {\n",
       "        vertical-align: middle;\n",
       "    }\n",
       "\n",
       "    .dataframe tbody tr th {\n",
       "        vertical-align: top;\n",
       "    }\n",
       "\n",
       "    .dataframe thead th {\n",
       "        text-align: right;\n",
       "    }\n",
       "</style>\n",
       "<table border=\"1\" class=\"dataframe\">\n",
       "  <thead>\n",
       "    <tr style=\"text-align: right;\">\n",
       "      <th></th>\n",
       "      <th>0</th>\n",
       "      <th>1</th>\n",
       "      <th>2</th>\n",
       "      <th>3</th>\n",
       "      <th>4</th>\n",
       "      <th>5</th>\n",
       "      <th>6</th>\n",
       "      <th>7</th>\n",
       "      <th>8</th>\n",
       "      <th>9</th>\n",
       "    </tr>\n",
       "  </thead>\n",
       "  <tbody>\n",
       "    <tr>\n",
       "      <th>Model Choice Prob</th>\n",
       "      <td>1.316627e-19</td>\n",
       "      <td>1.743895e-19</td>\n",
       "      <td>1.121482e-17</td>\n",
       "      <td>1.180437e-20</td>\n",
       "      <td>0.133849</td>\n",
       "      <td>5.798911e-20</td>\n",
       "      <td>0.447551</td>\n",
       "      <td>0.418600</td>\n",
       "      <td>2.055777e-17</td>\n",
       "      <td>2.224409e-19</td>\n",
       "    </tr>\n",
       "    <tr>\n",
       "      <th>Abs(fit)</th>\n",
       "      <td>4.275934e-01</td>\n",
       "      <td>6.346387e-01</td>\n",
       "      <td>2.754248e-01</td>\n",
       "      <td>2.535166e-01</td>\n",
       "      <td>0.524839</td>\n",
       "      <td>2.112698e-01</td>\n",
       "      <td>0.625913</td>\n",
       "      <td>0.675556</td>\n",
       "      <td>5.801918e-01</td>\n",
       "      <td>3.399895e-01</td>\n",
       "    </tr>\n",
       "    <tr>\n",
       "      <th>Fit?</th>\n",
       "      <td>0.000000e+00</td>\n",
       "      <td>0.000000e+00</td>\n",
       "      <td>0.000000e+00</td>\n",
       "      <td>1.000000e+00</td>\n",
       "      <td>0.000000</td>\n",
       "      <td>0.000000e+00</td>\n",
       "      <td>0.000000</td>\n",
       "      <td>0.000000</td>\n",
       "      <td>0.000000e+00</td>\n",
       "      <td>0.000000e+00</td>\n",
       "    </tr>\n",
       "    <tr>\n",
       "      <th>Label</th>\n",
       "      <td>0.000000e+00</td>\n",
       "      <td>0.000000e+00</td>\n",
       "      <td>0.000000e+00</td>\n",
       "      <td>1.000000e+00</td>\n",
       "      <td>0.000000</td>\n",
       "      <td>0.000000e+00</td>\n",
       "      <td>0.000000</td>\n",
       "      <td>0.000000</td>\n",
       "      <td>0.000000e+00</td>\n",
       "      <td>0.000000e+00</td>\n",
       "    </tr>\n",
       "  </tbody>\n",
       "</table>\n",
       "</div>"
      ],
      "text/plain": [
       "                              0             1             2             3  \\\n",
       "Model Choice Prob  1.316627e-19  1.743895e-19  1.121482e-17  1.180437e-20   \n",
       "Abs(fit)           4.275934e-01  6.346387e-01  2.754248e-01  2.535166e-01   \n",
       "Fit?               0.000000e+00  0.000000e+00  0.000000e+00  1.000000e+00   \n",
       "Label              0.000000e+00  0.000000e+00  0.000000e+00  1.000000e+00   \n",
       "\n",
       "                          4             5         6         7             8  \\\n",
       "Model Choice Prob  0.133849  5.798911e-20  0.447551  0.418600  2.055777e-17   \n",
       "Abs(fit)           0.524839  2.112698e-01  0.625913  0.675556  5.801918e-01   \n",
       "Fit?               0.000000  0.000000e+00  0.000000  0.000000  0.000000e+00   \n",
       "Label              0.000000  0.000000e+00  0.000000  0.000000  0.000000e+00   \n",
       "\n",
       "                              9  \n",
       "Model Choice Prob  2.224409e-19  \n",
       "Abs(fit)           3.399895e-01  \n",
       "Fit?               0.000000e+00  \n",
       "Label              0.000000e+00  "
      ]
     },
     "execution_count": 15,
     "metadata": {},
     "output_type": "execute_result"
    }
   ],
   "source": [
    "# show results of any specific case\n",
    "test = misclass_set[0]\n",
    "\n",
    "import pandas as pd\n",
    "\n",
    "test_df = pd.DataFrame(np.vstack((label_pred[test],X_test[test][0:n_partitions],X_test[test][n_partitions:2*n_partitions],y_test[test])))\n",
    "test_df.index = (\"Model Choice Prob\", \"Abs(fit)\", \"Fit?\", \"Label\")\n",
    "test_df.style.format(\"{:.2%}\")\n",
    "\n",
    "test_df"
   ]
  },
  {
   "cell_type": "code",
   "execution_count": null,
   "metadata": {},
   "outputs": [],
   "source": []
  }
 ],
 "metadata": {
  "kernelspec": {
   "display_name": "Python 3",
   "language": "python",
   "name": "python3"
  },
  "language_info": {
   "codemirror_mode": {
    "name": "ipython",
    "version": 3
   },
   "file_extension": ".py",
   "mimetype": "text/x-python",
   "name": "python",
   "nbconvert_exporter": "python",
   "pygments_lexer": "ipython3",
   "version": "3.6.5"
  }
 },
 "nbformat": 4,
 "nbformat_minor": 2
}
