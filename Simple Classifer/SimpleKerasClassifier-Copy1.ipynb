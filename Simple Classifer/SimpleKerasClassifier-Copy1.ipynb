{
 "cells": [
  {
   "cell_type": "code",
   "execution_count": 1,
   "metadata": {},
   "outputs": [
    {
     "name": "stderr",
     "output_type": "stream",
     "text": [
      "C:\\Users\\ortci\\Anaconda3\\lib\\site-packages\\h5py\\__init__.py:36: FutureWarning: Conversion of the second argument of issubdtype from `float` to `np.floating` is deprecated. In future, it will be treated as `np.float64 == np.dtype(float).type`.\n",
      "  from ._conv import register_converters as _register_converters\n",
      "Using TensorFlow backend.\n"
     ]
    }
   ],
   "source": [
    "import keras as k\n",
    "from keras.models import Sequential\n",
    "from keras.layers import Dense\n",
    "from keras.optimizers import Adam\n",
    "\n",
    "import random"
   ]
  },
  {
   "cell_type": "code",
   "execution_count": 2,
   "metadata": {},
   "outputs": [],
   "source": [
    "import numpy as np\n",
    "\n",
    "n_samples = 1000000\n",
    "n_partitions = 10\n",
    "\n",
    "# Generate tasks and partitions\n",
    "partition_data = np.random.random((n_samples, n_partitions)) # partition data generation\n",
    "\n",
    "data = np.zeros((n_samples, n_partitions))                   # initialize input layer\n",
    "labels = np.zeros((n_samples, n_partitions))                 # initialize outputs layer for training \n",
    "\n",
    "task_data = np.zeros((n_samples, 1))                         # initialize task list\n",
    "\n",
    "# fails to account a 'perfect' fit where fit == 0\n",
    "for i in range (0, n_samples):\n",
    "    \n",
    "    partitions = partition_data[i]\n",
    "    task = random.uniform(0, partitions.max())\n",
    "    task_data[i] = task\n",
    "    \n",
    "    best_partition = -1\n",
    "    best_fit = 999999999\n",
    "    \n",
    "    for j in range (0, n_partitions):\n",
    "        current_fit = partitions[j] - task\n",
    "        data[i,j] = max(0, current_fit)\n",
    "        if current_fit > 0 and current_fit < best_fit:\n",
    "            best_fit = current_fit\n",
    "            best_partition = j\n",
    "    \n",
    "    labels[i][best_partition] = 1\n"
   ]
  },
  {
   "cell_type": "code",
   "execution_count": 3,
   "metadata": {},
   "outputs": [
    {
     "name": "stdout",
     "output_type": "stream",
     "text": [
      "[[0.03951724 0.85493017 0.99404355 ... 0.06506165 0.29010885 0.36936967]\n",
      " [0.         0.         0.04454074 ... 0.         0.         0.        ]\n",
      " [0.06001438 0.36884672 0.52377543 ... 0.3868288  0.393485   0.59334358]\n",
      " ...\n",
      " [0.20489031 0.         0.         ... 0.         0.         0.        ]\n",
      " [0.57168786 0.78164727 0.         ... 0.77685119 0.         0.11472483]\n",
      " [0.         0.         0.         ... 0.07447337 0.         0.        ]]\n",
      "[[1. 0. 0. ... 0. 0. 0.]\n",
      " [0. 0. 0. ... 0. 0. 0.]\n",
      " [1. 0. 0. ... 0. 0. 0.]\n",
      " ...\n",
      " [0. 0. 0. ... 0. 0. 0.]\n",
      " [0. 0. 0. ... 0. 0. 1.]\n",
      " [0. 0. 0. ... 1. 0. 0.]]\n"
     ]
    }
   ],
   "source": [
    "print(data)\n",
    "print(labels)"
   ]
  },
  {
   "cell_type": "code",
   "execution_count": 4,
   "metadata": {},
   "outputs": [],
   "source": [
    "import tensorflow as tf\n",
    "\n",
    "# Construct neural network\n",
    "n_nodes = 32\n",
    "\n",
    "model = Sequential()\n",
    "model.add(Dense(n_nodes, input_dim=n_partitions, activation='relu', name='layerA'))\n",
    "model.add(Dense(n_nodes, activation='relu', name='layerB'))\n",
    "model.add(Dense(n_partitions, activation='softmax', name='softmax'))\n",
    "\n",
    "# Configure a model for categorical classification. from https://www.tensorflow.org/guide/keras#train_and_evaluate\n",
    "model.compile(optimizer=tf.train.RMSPropOptimizer(0.008),\n",
    "              loss=tf.keras.losses.categorical_crossentropy,\n",
    "              metrics=[tf.keras.metrics.categorical_accuracy])"
   ]
  },
  {
   "cell_type": "code",
   "execution_count": 5,
   "metadata": {},
   "outputs": [
    {
     "name": "stdout",
     "output_type": "stream",
     "text": [
      "Epoch 1/20\n",
      "1000000/1000000 [==============================] - 12s 12us/step - loss: 1.2340 - categorical_accuracy: 0.5557\n",
      "Epoch 2/20\n",
      "1000000/1000000 [==============================] - 12s 12us/step - loss: 0.8045 - categorical_accuracy: 0.7272\n",
      "Epoch 3/20\n",
      "1000000/1000000 [==============================] - 12s 12us/step - loss: 0.6416 - categorical_accuracy: 0.7886\n",
      "Epoch 4/20\n",
      "1000000/1000000 [==============================] - 12s 12us/step - loss: 0.5357 - categorical_accuracy: 0.8331\n",
      "Epoch 5/20\n",
      "1000000/1000000 [==============================] - 12s 12us/step - loss: 0.4883 - categorical_accuracy: 0.8496\n",
      "Epoch 6/20\n",
      "1000000/1000000 [==============================] - 12s 12us/step - loss: 0.4580 - categorical_accuracy: 0.8580\n",
      "Epoch 7/20\n",
      "1000000/1000000 [==============================] - 13s 13us/step - loss: 0.4387 - categorical_accuracy: 0.8645\n",
      "Epoch 8/20\n",
      "1000000/1000000 [==============================] - 12s 12us/step - loss: 0.4194 - categorical_accuracy: 0.8720\n",
      "Epoch 9/20\n",
      "1000000/1000000 [==============================] - 12s 12us/step - loss: 0.4014 - categorical_accuracy: 0.8802\n",
      "Epoch 10/20\n",
      "1000000/1000000 [==============================] - 11s 11us/step - loss: 0.3828 - categorical_accuracy: 0.8880\n",
      "Epoch 11/20\n",
      "1000000/1000000 [==============================] - 11s 11us/step - loss: 0.3632 - categorical_accuracy: 0.8969\n",
      "Epoch 12/20\n",
      "1000000/1000000 [==============================] - 12s 12us/step - loss: 0.3493 - categorical_accuracy: 0.9032\n",
      "Epoch 13/20\n",
      "1000000/1000000 [==============================] - 12s 12us/step - loss: 0.3369 - categorical_accuracy: 0.9085\n",
      "Epoch 14/20\n",
      "1000000/1000000 [==============================] - 12s 12us/step - loss: 0.3305 - categorical_accuracy: 0.9117\n",
      "Epoch 15/20\n",
      "1000000/1000000 [==============================] - 13s 13us/step - loss: 0.3256 - categorical_accuracy: 0.9131\n",
      "Epoch 16/20\n",
      "1000000/1000000 [==============================] - 12s 12us/step - loss: 0.3212 - categorical_accuracy: 0.9151\n",
      "Epoch 17/20\n",
      "1000000/1000000 [==============================] - 13s 13us/step - loss: 0.3153 - categorical_accuracy: 0.9169\n",
      "Epoch 18/20\n",
      "1000000/1000000 [==============================] - 13s 13us/step - loss: 0.3107 - categorical_accuracy: 0.9182\n",
      "Epoch 19/20\n",
      "1000000/1000000 [==============================] - 11s 11us/step - loss: 0.3076 - categorical_accuracy: 0.9196\n",
      "Epoch 20/20\n",
      "1000000/1000000 [==============================] - 9s 9us/step - loss: 0.3052 - categorical_accuracy: 0.9208\n"
     ]
    },
    {
     "data": {
      "text/plain": [
       "<keras.callbacks.History at 0x1b9a186a7b8>"
      ]
     },
     "execution_count": 5,
     "metadata": {},
     "output_type": "execute_result"
    }
   ],
   "source": [
    "model.fit(data, labels, epochs=20, batch_size=256)"
   ]
  },
  {
   "cell_type": "code",
   "execution_count": 6,
   "metadata": {},
   "outputs": [
    {
     "name": "stderr",
     "output_type": "stream",
     "text": [
      "C:\\Users\\ortci\\Anaconda3\\lib\\site-packages\\keras\\engine\\saving.py:118: UserWarning: TensorFlow optimizers do not make it possible to access optimizer attributes or optimizer state after instantiation. As a result, we cannot save the optimizer as part of the model save file.You will have to compile your model again after loading it. Prefer using a Keras optimizer instead (see keras.io/optimizers).\n",
      "  'TensorFlow optimizers do not '\n"
     ]
    }
   ],
   "source": [
    "from keras.models import load_model\n",
    "\n",
    "model.save('simple_classifer1.h5')  # creates a HDF5 file 'my_model.h5'\n",
    "model.save_weights('simple_classifer1_wts.h5')"
   ]
  },
  {
   "cell_type": "code",
   "execution_count": 7,
   "metadata": {},
   "outputs": [
    {
     "name": "stdout",
     "output_type": "stream",
     "text": [
      "[[9.54371631e-01 6.18020593e-22 3.71041396e-22 ... 4.56281938e-02\n",
      "  2.44056952e-09 2.21702323e-10]\n",
      " [1.09557661e-07 4.16439938e-10 1.90925822e-02 ... 7.83733140e-06\n",
      "  4.60526639e-09 6.41439790e-09]\n",
      " [5.08245289e-01 1.03237070e-07 4.70366940e-11 ... 6.60564103e-10\n",
      "  1.02844787e-07 3.75343745e-13]\n",
      " ...\n",
      " [9.83455032e-02 6.19694562e-09 5.72342230e-07 ... 1.21942794e-08\n",
      "  5.38198201e-11 1.69635500e-10]\n",
      " [2.13107215e-13 1.07841533e-19 9.68201281e-14 ... 5.47683069e-20\n",
      "  4.08884666e-21 9.98861909e-01]\n",
      " [6.63298200e-17 6.91869005e-16 5.89687891e-12 ... 1.00000000e+00\n",
      "  7.63055586e-17 8.19674918e-21]]\n"
     ]
    }
   ],
   "source": [
    "label_pred = model.predict(data)\n",
    "print(label_pred)"
   ]
  },
  {
   "cell_type": "code",
   "execution_count": 8,
   "metadata": {},
   "outputs": [
    {
     "data": {
      "text/plain": [
       "array([4.6949562e-15, 6.8969913e-10, 9.9993038e-01, 6.9622220e-05,\n",
       "       3.9353468e-13, 2.4563934e-11, 2.3303786e-14, 4.3554568e-10,\n",
       "       6.4829540e-18, 3.8173500e-08], dtype=float32)"
      ]
     },
     "execution_count": 8,
     "metadata": {},
     "output_type": "execute_result"
    }
   ],
   "source": [
    "label_pred[100]"
   ]
  },
  {
   "cell_type": "code",
   "execution_count": 9,
   "metadata": {},
   "outputs": [
    {
     "data": {
      "text/plain": [
       "array([0.        , 0.29813716, 0.02591588, 0.10897351, 0.        ,\n",
       "       0.44590773, 0.        , 0.        , 0.        , 0.27080722])"
      ]
     },
     "execution_count": 9,
     "metadata": {},
     "output_type": "execute_result"
    }
   ],
   "source": [
    "data[100]"
   ]
  },
  {
   "cell_type": "code",
   "execution_count": null,
   "metadata": {},
   "outputs": [],
   "source": []
  }
 ],
 "metadata": {
  "kernelspec": {
   "display_name": "Python 3",
   "language": "python",
   "name": "python3"
  },
  "language_info": {
   "codemirror_mode": {
    "name": "ipython",
    "version": 3
   },
   "file_extension": ".py",
   "mimetype": "text/x-python",
   "name": "python",
   "nbconvert_exporter": "python",
   "pygments_lexer": "ipython3",
   "version": "3.6.5"
  }
 },
 "nbformat": 4,
 "nbformat_minor": 2
}
