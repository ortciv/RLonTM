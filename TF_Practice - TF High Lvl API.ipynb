{
 "cells": [
  {
   "cell_type": "code",
   "execution_count": 1,
   "metadata": {},
   "outputs": [
    {
     "name": "stderr",
     "output_type": "stream",
     "text": [
      "C:\\Program Files (x86)\\Microsoft Visual Studio\\Shared\\Anaconda3_64\\lib\\site-packages\\h5py\\__init__.py:36: FutureWarning: Conversion of the second argument of issubdtype from `float` to `np.floating` is deprecated. In future, it will be treated as `np.float64 == np.dtype(float).type`.\n",
      "  from ._conv import register_converters as _register_converters\n",
      "Using TensorFlow backend.\n"
     ]
    }
   ],
   "source": [
    "# \"Training an MLP with TF's High Level API\" pg 268 (Chapter 10 - Intro to ANN)\n",
    "\n",
    "from keras.datasets import mnist\n",
    "(X_train, y_train), (X_test, y_test) = mnist.load_data()"
   ]
  },
  {
   "cell_type": "code",
   "execution_count": 2,
   "metadata": {},
   "outputs": [],
   "source": [
    "import numpy as np\n",
    "#shuffle_index = np.random.permutation(60000)\n",
    "#X_train, y_train = X_train[shuffle_index], y_train[shuffle_index]"
   ]
  },
  {
   "cell_type": "code",
   "execution_count": 3,
   "metadata": {},
   "outputs": [
    {
     "name": "stderr",
     "output_type": "stream",
     "text": [
      "C:\\Program Files (x86)\\Microsoft Visual Studio\\Shared\\Anaconda3_64\\lib\\site-packages\\sklearn\\utils\\validation.py:475: DataConversionWarning: Data with input dtype uint8 was converted to float64 by StandardScaler.\n",
      "  warnings.warn(msg, DataConversionWarning)\n"
     ]
    }
   ],
   "source": [
    "from sklearn.preprocessing import StandardScaler\n",
    "scaler = StandardScaler()\n",
    "nsamples, nx, ny = X_train.shape\n",
    "X_train = X_train.reshape((nsamples,nx*ny))\n",
    "X_train = scaler.fit_transform(X_train)\n",
    "X_train = np.array(X_train, dtype=np.int32)\n",
    "y_train = np.array(y_train, dtype=np.int32)"
   ]
  },
  {
   "cell_type": "code",
   "execution_count": 4,
   "metadata": {},
   "outputs": [
    {
     "name": "stdout",
     "output_type": "stream",
     "text": [
      "WARNING:tensorflow:From <ipython-input-4-53a704feaa34>:3: infer_real_valued_columns_from_input (from tensorflow.contrib.learn.python.learn.estimators.estimator) is deprecated and will be removed in a future version.\n",
      "Instructions for updating:\n",
      "Please specify feature columns explicitly.\n",
      "WARNING:tensorflow:From C:\\Program Files (x86)\\Microsoft Visual Studio\\Shared\\Anaconda3_64\\lib\\site-packages\\tensorflow\\contrib\\learn\\python\\learn\\estimators\\estimator.py:143: setup_train_data_feeder (from tensorflow.contrib.learn.python.learn.learn_io.data_feeder) is deprecated and will be removed in a future version.\n",
      "Instructions for updating:\n",
      "Please use tensorflow/transform or tf.data.\n",
      "WARNING:tensorflow:From C:\\Program Files (x86)\\Microsoft Visual Studio\\Shared\\Anaconda3_64\\lib\\site-packages\\tensorflow\\contrib\\learn\\python\\learn\\learn_io\\data_feeder.py:96: extract_dask_data (from tensorflow.contrib.learn.python.learn.learn_io.dask_io) is deprecated and will be removed in a future version.\n",
      "Instructions for updating:\n",
      "Please feed input to tf.data to support dask.\n",
      "WARNING:tensorflow:From C:\\Program Files (x86)\\Microsoft Visual Studio\\Shared\\Anaconda3_64\\lib\\site-packages\\tensorflow\\contrib\\learn\\python\\learn\\learn_io\\data_feeder.py:100: extract_pandas_data (from tensorflow.contrib.learn.python.learn.learn_io.pandas_io) is deprecated and will be removed in a future version.\n",
      "Instructions for updating:\n",
      "Please access pandas data directly.\n",
      "WARNING:tensorflow:From C:\\Program Files (x86)\\Microsoft Visual Studio\\Shared\\Anaconda3_64\\lib\\site-packages\\tensorflow\\contrib\\learn\\python\\learn\\learn_io\\data_feeder.py:159: DataFeeder.__init__ (from tensorflow.contrib.learn.python.learn.learn_io.data_feeder) is deprecated and will be removed in a future version.\n",
      "Instructions for updating:\n",
      "Please use tensorflow/transform or tf.data.\n",
      "WARNING:tensorflow:From C:\\Program Files (x86)\\Microsoft Visual Studio\\Shared\\Anaconda3_64\\lib\\site-packages\\tensorflow\\contrib\\learn\\python\\learn\\learn_io\\data_feeder.py:340: check_array (from tensorflow.contrib.learn.python.learn.learn_io.data_feeder) is deprecated and will be removed in a future version.\n",
      "Instructions for updating:\n",
      "Please convert numpy dtypes explicitly.\n",
      "WARNING:tensorflow:From C:\\Program Files (x86)\\Microsoft Visual Studio\\Shared\\Anaconda3_64\\lib\\site-packages\\tensorflow\\contrib\\learn\\python\\learn\\estimators\\estimator.py:183: infer_real_valued_columns_from_input_fn (from tensorflow.contrib.learn.python.learn.estimators.estimator) is deprecated and will be removed in a future version.\n",
      "Instructions for updating:\n",
      "Please specify feature columns explicitly.\n",
      "WARNING:tensorflow:From C:\\Program Files (x86)\\Microsoft Visual Studio\\Shared\\Anaconda3_64\\lib\\site-packages\\tensorflow\\contrib\\learn\\python\\learn\\estimators\\dnn.py:378: multi_class_head (from tensorflow.contrib.learn.python.learn.estimators.head) is deprecated and will be removed in a future version.\n",
      "Instructions for updating:\n",
      "Please switch to tf.contrib.estimator.*_head.\n",
      "WARNING:tensorflow:From C:\\Program Files (x86)\\Microsoft Visual Studio\\Shared\\Anaconda3_64\\lib\\site-packages\\tensorflow\\contrib\\learn\\python\\learn\\estimators\\estimator.py:1180: BaseEstimator.__init__ (from tensorflow.contrib.learn.python.learn.estimators.estimator) is deprecated and will be removed in a future version.\n",
      "Instructions for updating:\n",
      "Please replace uses of any Estimator from tf.contrib.learn with an Estimator from tf.estimator.*\n",
      "WARNING:tensorflow:From C:\\Program Files (x86)\\Microsoft Visual Studio\\Shared\\Anaconda3_64\\lib\\site-packages\\tensorflow\\contrib\\learn\\python\\learn\\estimators\\estimator.py:428: RunConfig.__init__ (from tensorflow.contrib.learn.python.learn.estimators.run_config) is deprecated and will be removed in a future version.\n",
      "Instructions for updating:\n",
      "When switching to tf.estimator.Estimator, use tf.estimator.RunConfig instead.\n",
      "INFO:tensorflow:Using default config.\n",
      "WARNING:tensorflow:Using temporary folder as model directory: C:\\Users\\ortci\\AppData\\Local\\Temp\\tmp9sa9nh9_\n",
      "INFO:tensorflow:Using config: {'_task_type': None, '_task_id': 0, '_cluster_spec': <tensorflow.python.training.server_lib.ClusterSpec object at 0x00000255F481CEF0>, '_master': '', '_num_ps_replicas': 0, '_num_worker_replicas': 0, '_environment': 'local', '_is_chief': True, '_evaluation_master': '', '_train_distribute': None, '_eval_distribute': None, '_device_fn': None, '_tf_config': gpu_options {\n",
      "  per_process_gpu_memory_fraction: 1.0\n",
      "}\n",
      ", '_tf_random_seed': None, '_save_summary_steps': 100, '_save_checkpoints_secs': 600, '_log_step_count_steps': 100, '_protocol': None, '_session_config': None, '_save_checkpoints_steps': None, '_keep_checkpoint_max': 5, '_keep_checkpoint_every_n_hours': 10000, '_model_dir': 'C:\\\\Users\\\\ortci\\\\AppData\\\\Local\\\\Temp\\\\tmp9sa9nh9_'}\n",
      "WARNING:tensorflow:From <ipython-input-4-53a704feaa34>:5: SKCompat.__init__ (from tensorflow.contrib.learn.python.learn.estimators.estimator) is deprecated and will be removed in a future version.\n",
      "Instructions for updating:\n",
      "Please switch to the Estimator interface.\n",
      "WARNING:tensorflow:From C:\\Program Files (x86)\\Microsoft Visual Studio\\Shared\\Anaconda3_64\\lib\\site-packages\\tensorflow\\contrib\\learn\\python\\learn\\learn_io\\data_feeder.py:98: extract_dask_labels (from tensorflow.contrib.learn.python.learn.learn_io.dask_io) is deprecated and will be removed in a future version.\n",
      "Instructions for updating:\n",
      "Please feed input to tf.data to support dask.\n",
      "WARNING:tensorflow:From C:\\Program Files (x86)\\Microsoft Visual Studio\\Shared\\Anaconda3_64\\lib\\site-packages\\tensorflow\\contrib\\learn\\python\\learn\\learn_io\\data_feeder.py:102: extract_pandas_labels (from tensorflow.contrib.learn.python.learn.learn_io.pandas_io) is deprecated and will be removed in a future version.\n",
      "Instructions for updating:\n",
      "Please access pandas data directly.\n",
      "WARNING:tensorflow:From C:\\Program Files (x86)\\Microsoft Visual Studio\\Shared\\Anaconda3_64\\lib\\site-packages\\tensorflow\\contrib\\learn\\python\\learn\\estimators\\head.py:678: ModelFnOps.__new__ (from tensorflow.contrib.learn.python.learn.estimators.model_fn) is deprecated and will be removed in a future version.\n",
      "Instructions for updating:\n",
      "When switching to tf.estimator.Estimator, use tf.estimator.EstimatorSpec. You can use the `estimator_spec` method to create an equivalent one.\n",
      "INFO:tensorflow:Create CheckpointSaverHook.\n",
      "INFO:tensorflow:Graph was finalized.\n",
      "INFO:tensorflow:Running local_init_op.\n",
      "INFO:tensorflow:Done running local_init_op.\n",
      "INFO:tensorflow:Saving checkpoints for 0 into C:\\Users\\ortci\\AppData\\Local\\Temp\\tmp9sa9nh9_\\model.ckpt.\n",
      "INFO:tensorflow:loss = 2.4703093, step = 1\n",
      "INFO:tensorflow:global_step/sec: 241.053\n",
      "INFO:tensorflow:loss = 0.41460976, step = 101 (0.417 sec)\n",
      "INFO:tensorflow:global_step/sec: 250.641\n",
      "INFO:tensorflow:loss = 0.23196073, step = 201 (0.398 sec)\n",
      "INFO:tensorflow:global_step/sec: 215.168\n",
      "INFO:tensorflow:loss = 0.37060887, step = 301 (0.466 sec)\n",
      "INFO:tensorflow:global_step/sec: 234.272\n",
      "INFO:tensorflow:loss = 1.658608, step = 401 (0.427 sec)\n",
      "INFO:tensorflow:global_step/sec: 263.861\n",
      "INFO:tensorflow:loss = 0.18502809, step = 501 (0.378 sec)\n",
      "INFO:tensorflow:global_step/sec: 238.069\n",
      "INFO:tensorflow:loss = 0.11544002, step = 601 (0.421 sec)\n",
      "INFO:tensorflow:global_step/sec: 230.115\n",
      "INFO:tensorflow:loss = 0.18871966, step = 701 (0.435 sec)\n",
      "INFO:tensorflow:global_step/sec: 229.82\n",
      "INFO:tensorflow:loss = 0.6118603, step = 801 (0.435 sec)\n",
      "INFO:tensorflow:global_step/sec: 231.632\n",
      "INFO:tensorflow:loss = 0.1646127, step = 901 (0.432 sec)\n",
      "INFO:tensorflow:global_step/sec: 231.01\n",
      "INFO:tensorflow:loss = 0.06494676, step = 1001 (0.432 sec)\n",
      "INFO:tensorflow:global_step/sec: 234.291\n",
      "INFO:tensorflow:loss = 0.32966942, step = 1101 (0.428 sec)\n",
      "INFO:tensorflow:global_step/sec: 234.269\n",
      "INFO:tensorflow:loss = 0.19174488, step = 1201 (0.427 sec)\n",
      "INFO:tensorflow:global_step/sec: 218.333\n",
      "INFO:tensorflow:loss = 0.10642087, step = 1301 (0.458 sec)\n",
      "INFO:tensorflow:global_step/sec: 216.561\n",
      "INFO:tensorflow:loss = 0.12825221, step = 1401 (0.462 sec)\n",
      "INFO:tensorflow:global_step/sec: 215.166\n",
      "INFO:tensorflow:loss = 0.15669082, step = 1501 (0.465 sec)\n",
      "INFO:tensorflow:global_step/sec: 228.381\n",
      "INFO:tensorflow:loss = 0.102662936, step = 1601 (0.437 sec)\n",
      "INFO:tensorflow:global_step/sec: 231.049\n"
     ]
    },
    {
     "name": "stdout",
     "output_type": "stream",
     "text": [
      "INFO:tensorflow:loss = 0.20577112, step = 1701 (0.434 sec)\n",
      "INFO:tensorflow:global_step/sec: 218.433\n",
      "INFO:tensorflow:loss = 0.10390172, step = 1801 (0.457 sec)\n",
      "INFO:tensorflow:global_step/sec: 222.834\n",
      "INFO:tensorflow:loss = 0.081052236, step = 1901 (0.450 sec)\n",
      "INFO:tensorflow:global_step/sec: 198.942\n",
      "INFO:tensorflow:loss = 0.13653854, step = 2001 (0.502 sec)\n",
      "INFO:tensorflow:global_step/sec: 195.341\n",
      "INFO:tensorflow:loss = 0.04657504, step = 2101 (0.513 sec)\n",
      "INFO:tensorflow:global_step/sec: 228.036\n",
      "INFO:tensorflow:loss = 0.07278285, step = 2201 (0.439 sec)\n",
      "INFO:tensorflow:global_step/sec: 197.377\n",
      "INFO:tensorflow:loss = 0.0837259, step = 2301 (0.507 sec)\n",
      "INFO:tensorflow:global_step/sec: 193.552\n",
      "INFO:tensorflow:loss = 0.034798235, step = 2401 (0.517 sec)\n",
      "INFO:tensorflow:global_step/sec: 198.565\n",
      "INFO:tensorflow:loss = 0.16426939, step = 2501 (0.503 sec)\n",
      "INFO:tensorflow:global_step/sec: 199.72\n",
      "INFO:tensorflow:loss = 0.08815486, step = 2601 (0.501 sec)\n",
      "INFO:tensorflow:global_step/sec: 201.345\n",
      "INFO:tensorflow:loss = 0.036957778, step = 2701 (0.496 sec)\n",
      "INFO:tensorflow:global_step/sec: 198.557\n",
      "INFO:tensorflow:loss = 0.0743899, step = 2801 (0.505 sec)\n",
      "INFO:tensorflow:global_step/sec: 207.129\n",
      "INFO:tensorflow:loss = 0.050569028, step = 2901 (0.483 sec)\n",
      "INFO:tensorflow:global_step/sec: 200.973\n",
      "INFO:tensorflow:loss = 0.022090089, step = 3001 (0.498 sec)\n",
      "INFO:tensorflow:global_step/sec: 200.135\n",
      "INFO:tensorflow:loss = 0.015592419, step = 3101 (0.500 sec)\n",
      "INFO:tensorflow:global_step/sec: 217.498\n",
      "INFO:tensorflow:loss = 0.1709382, step = 3201 (0.463 sec)\n",
      "INFO:tensorflow:global_step/sec: 208.875\n",
      "INFO:tensorflow:loss = 0.037683334, step = 3301 (0.475 sec)\n",
      "INFO:tensorflow:global_step/sec: 198.944\n",
      "INFO:tensorflow:loss = 0.04186216, step = 3401 (0.502 sec)\n",
      "INFO:tensorflow:global_step/sec: 204.149\n",
      "INFO:tensorflow:loss = 0.09671695, step = 3501 (0.491 sec)\n",
      "INFO:tensorflow:global_step/sec: 195.143\n",
      "INFO:tensorflow:loss = 0.10251698, step = 3601 (0.513 sec)\n",
      "INFO:tensorflow:global_step/sec: 200.936\n",
      "INFO:tensorflow:loss = 0.06557737, step = 3701 (0.498 sec)\n",
      "INFO:tensorflow:global_step/sec: 206.736\n",
      "INFO:tensorflow:loss = 0.041250035, step = 3801 (0.483 sec)\n",
      "INFO:tensorflow:global_step/sec: 227.346\n",
      "INFO:tensorflow:loss = 0.034134056, step = 3901 (0.440 sec)\n",
      "INFO:tensorflow:Saving checkpoints for 4000 into C:\\Users\\ortci\\AppData\\Local\\Temp\\tmp9sa9nh9_\\model.ckpt.\n",
      "INFO:tensorflow:Loss for final step: 0.053146333.\n"
     ]
    },
    {
     "data": {
      "text/plain": [
       "SKCompat()"
      ]
     },
     "execution_count": 4,
     "metadata": {},
     "output_type": "execute_result"
    }
   ],
   "source": [
    "import tensorflow as tf\n",
    "\n",
    "feature_cols = tf.contrib.learn.infer_real_valued_columns_from_input(X_train)\n",
    "dnn_clf = tf.contrib.learn.DNNClassifier(hidden_units=[300, 100], n_classes=10, feature_columns=feature_cols)\n",
    "dnn_clf = tf.contrib.learn.SKCompat(dnn_clf) # if TensorFlow >=1.1\n",
    "dnn_clf.fit(X_train, y_train, batch_size=50, steps=4000)"
   ]
  },
  {
   "cell_type": "code",
   "execution_count": 5,
   "metadata": {},
   "outputs": [
    {
     "name": "stderr",
     "output_type": "stream",
     "text": [
      "C:\\Program Files (x86)\\Microsoft Visual Studio\\Shared\\Anaconda3_64\\lib\\site-packages\\sklearn\\utils\\validation.py:475: DataConversionWarning: Data with input dtype uint8 was converted to float64 by StandardScaler.\n",
      "  warnings.warn(msg, DataConversionWarning)\n"
     ]
    },
    {
     "name": "stdout",
     "output_type": "stream",
     "text": [
      "WARNING:tensorflow:float64 is not supported by many models, consider casting to float32.\n",
      "INFO:tensorflow:Graph was finalized.\n",
      "INFO:tensorflow:Restoring parameters from C:\\Users\\ortci\\AppData\\Local\\Temp\\tmp9sa9nh9_\\model.ckpt-4000\n",
      "INFO:tensorflow:Running local_init_op.\n",
      "INFO:tensorflow:Done running local_init_op.\n"
     ]
    },
    {
     "data": {
      "text/plain": [
       "0.9392"
      ]
     },
     "execution_count": 5,
     "metadata": {},
     "output_type": "execute_result"
    }
   ],
   "source": [
    "from sklearn.metrics import accuracy_score\n",
    "scaler = StandardScaler()\n",
    "nsamples, nx, ny = X_test.shape\n",
    "X_test = X_test.reshape((nsamples,nx*ny))\n",
    "X_test = scaler.fit_transform(X_test)\n",
    "y_pred = dnn_clf.predict(X_test)\n",
    "accuracy_score(y_test, y_pred['classes'])"
   ]
  },
  {
   "cell_type": "code",
   "execution_count": null,
   "metadata": {},
   "outputs": [],
   "source": []
  }
 ],
 "metadata": {
  "kernelspec": {
   "display_name": "Python 3",
   "language": "python",
   "name": "python3"
  },
  "language_info": {
   "codemirror_mode": {
    "name": "ipython",
    "version": 3
   },
   "file_extension": ".py",
   "mimetype": "text/x-python",
   "name": "python",
   "nbconvert_exporter": "python",
   "pygments_lexer": "ipython3",
   "version": "3.6.5"
  }
 },
 "nbformat": 4,
 "nbformat_minor": 2
}
